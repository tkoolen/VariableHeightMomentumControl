{
 "cells": [
  {
   "cell_type": "code",
   "execution_count": 1,
   "metadata": {
    "collapsed": false
   },
   "outputs": [
    {
     "name": "stderr",
     "output_type": "stream",
     "text": [
      "\u001b[1m\u001b[34mINFO: Recompiling stale cache file /Users/twan/code/julia/RigidBodyDynamics/lib/v0.5/RigidBodyDynamics.ji for module RigidBodyDynamics.\n",
      "\u001b[0m"
     ]
    }
   ],
   "source": [
    "using RigidBodyDynamics\n",
    "using StaticArrays\n",
    "import Compat.Iterators: filter"
   ]
  },
  {
   "cell_type": "code",
   "execution_count": 2,
   "metadata": {
    "collapsed": true
   },
   "outputs": [],
   "source": [
    "# TODO: grab everything off of github and cache\n",
    "DRAKE_DISTRO = \"$(ENV[\"HOME\"])/code/drake-distro\"\n",
    "urdf = \"$DRAKE_DISTRO/drake/examples/Valkyrie/urdf/urdf/valkyrie_A_sim_drake_one_neck_dof_wide_ankle_rom.urdf\"\n",
    "mechanism = RigidBodyDynamics.parse_urdf(Float64, urdf);"
   ]
  },
  {
   "cell_type": "code",
   "execution_count": 3,
   "metadata": {
    "collapsed": false
   },
   "outputs": [],
   "source": [
    "# Add sole frame\n",
    "ankleRoll = first(filter(j -> j.name == \"leftAnkleRoll\", joints(mechanism)))\n",
    "soleFrame = CartesianFrame3D(\"l_foot_sole\")\n",
    "soleToFoot = Transform3D(soleFrame, ankleRoll.frameAfter, SVector(0.067, 0., -0.09))\n",
    "add_body_fixed_frame!(mechanism, soleToFoot);"
   ]
  },
  {
   "cell_type": "code",
   "execution_count": 4,
   "metadata": {
    "collapsed": false
   },
   "outputs": [],
   "source": [
    "# Reroot at the left foot and remove fixed joints\n",
    "pelvis = first(filter(b -> name(b) == \"pelvis\", bodies(mechanism)))\n",
    "pelvisToWorld = first(filter(j -> j.name == \"pelvis_to_world\", joints(mechanism)))\n",
    "leftFoot = first(filter(b -> name(b) == \"leftFoot\", bodies(mechanism)))\n",
    "leftFootToWorld = Joint(\"leftFootToWorld\", Fixed{Float64}())\n",
    "world = root_body(mechanism)\n",
    "attach!(mechanism, world, leftFootToWorld, Transform3D(leftFootToWorld.frameBefore, default_frame(world), -soleToFoot.trans), leftFoot)\n",
    "remove_joint!(mechanism, pelvisToWorld)\n",
    "remove_fixed_tree_joints!(mechanism);"
   ]
  },
  {
   "cell_type": "code",
   "execution_count": 5,
   "metadata": {
    "collapsed": false
   },
   "outputs": [
    {
     "data": {
      "text/plain": [
       "Spanning tree:\n",
       "Vertex: world (root)\n",
       "  Vertex: leftAnklePitchLink, Edge: leftAnkleRoll\n",
       "    Vertex: leftKneePitchLink, Edge: leftAnklePitch\n",
       "      Vertex: leftHipPitchLink, Edge: leftKneePitch\n",
       "        Vertex: leftHipRollLink, Edge: leftHipPitch\n",
       "          Vertex: leftHipYawLink, Edge: leftHipRoll\n",
       "            Vertex: pelvis, Edge: leftHipYaw\n",
       "              Vertex: torsoYawLink, Edge: torsoYaw\n",
       "                Vertex: torsoPitchLink, Edge: torsoPitch\n",
       "                  Vertex: torso, Edge: torsoRoll\n",
       "                    Vertex: lowerNeckPitchLink, Edge: lowerNeckPitch\n",
       "                    Vertex: rightShoulderPitchLink, Edge: rightShoulderPitch\n",
       "                      Vertex: rightShoulderRollLink, Edge: rightShoulderRoll\n",
       "                        Vertex: rightShoulderYawLink, Edge: rightShoulderYaw\n",
       "                          Vertex: rightElbowPitchLink, Edge: rightElbowPitch\n",
       "                            Vertex: rightForearmLink, Edge: rightForearmYaw\n",
       "                              Vertex: rightWristRollLink, Edge: rightWristRoll\n",
       "                                Vertex: rightPalm, Edge: rightWristPitch\n",
       "                    Vertex: leftShoulderPitchLink, Edge: leftShoulderPitch\n",
       "                      Vertex: leftShoulderRollLink, Edge: leftShoulderRoll\n",
       "                        Vertex: leftShoulderYawLink, Edge: leftShoulderYaw\n",
       "                          Vertex: leftElbowPitchLink, Edge: leftElbowPitch\n",
       "                            Vertex: leftForearmLink, Edge: leftForearmYaw\n",
       "                              Vertex: leftWristRollLink, Edge: leftWristRoll\n",
       "                                Vertex: leftPalm, Edge: leftWristPitch\n",
       "              Vertex: rightHipYawLink, Edge: rightHipYaw\n",
       "                Vertex: rightHipRollLink, Edge: rightHipRoll\n",
       "                  Vertex: rightHipPitchLink, Edge: rightHipPitch\n",
       "                    Vertex: rightKneePitchLink, Edge: rightKneePitch\n",
       "                      Vertex: rightAnklePitchLink, Edge: rightAnklePitch\n",
       "                        Vertex: rightFoot, Edge: rightAnkleRoll\n",
       "No non-tree joints."
      ]
     },
     "execution_count": 5,
     "metadata": {},
     "output_type": "execute_result"
    }
   ],
   "source": [
    "mechanism"
   ]
  }
 ],
 "metadata": {
  "kernelspec": {
   "display_name": "Julia 0.5.1",
   "language": "julia",
   "name": "julia-0.5"
  },
  "language_info": {
   "file_extension": ".jl",
   "mimetype": "application/julia",
   "name": "julia",
   "version": "0.5.1"
  }
 },
 "nbformat": 4,
 "nbformat_minor": 2
}
