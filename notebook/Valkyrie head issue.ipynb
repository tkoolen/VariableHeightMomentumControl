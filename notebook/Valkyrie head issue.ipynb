{
 "cells": [
  {
   "cell_type": "code",
   "execution_count": 6,
   "metadata": {
    "collapsed": false
   },
   "outputs": [
    {
     "data": {
      "text/plain": [
       "Set{Array{Symbol,1}}()"
      ]
     },
     "execution_count": 6,
     "metadata": {},
     "output_type": "execute_result"
    }
   ],
   "source": [
    "# Pkg.checkout(\"RigidBodyDynamics\")\n",
    "# Pkg.clone(\"https://github.com/tkoolen/ValkyrieRobot.jl.git\")\n",
    "\n",
    "using RigidBodyDynamics\n",
    "using RigidBodyTreeInspector\n",
    "using ValkyrieRobot\n",
    "\n",
    "# Create mechanism\n",
    "val = Valkyrie()\n",
    "mechanism = val.mechanism;\n",
    "\n",
    "# Create visualizer\n",
    "DrakeVisualizer.any_open_windows() || DrakeVisualizer.new_window(); sleep(1)\n",
    "vis = Visualizer()[:valkyrie]\n",
    "setgeometry!(vis, mechanism, parse_urdf(ValkyrieRobot.urdfpath(), mechanism; package_path = [ValkyrieRobot.packagepath()]))\n",
    "remove_fixed_tree_joints!(mechanism)\n",
    "\n",
    "state = MechanismState{Float64}(mechanism)\n",
    "settransform!(vis, state)"
   ]
  }
 ],
 "metadata": {
  "kernelspec": {
   "display_name": "Julia 0.6.0",
   "language": "julia",
   "name": "julia-0.6"
  },
  "language_info": {
   "file_extension": ".jl",
   "mimetype": "application/julia",
   "name": "julia",
   "version": "0.6.0"
  }
 },
 "nbformat": 4,
 "nbformat_minor": 1
}
