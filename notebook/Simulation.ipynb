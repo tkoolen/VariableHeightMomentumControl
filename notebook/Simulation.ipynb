{
 "cells": [
  {
   "cell_type": "code",
   "execution_count": 19,
   "metadata": {
    "collapsed": false
   },
   "outputs": [],
   "source": [
    "using VariableHeightMomentumControl\n",
    "using RigidBodyDynamics\n",
    "using RigidBodyDynamics.OdeIntegrators\n",
    "using RigidBodyTreeInspector\n",
    "using StaticArrays\n",
    "using DrakeVisualizer\n",
    "using ValkyrieRobot\n",
    "using GeometryTypes\n",
    "using ColorTypes"
   ]
  },
  {
   "cell_type": "code",
   "execution_count": 20,
   "metadata": {
    "collapsed": false
   },
   "outputs": [],
   "source": [
    "# Create mechanism\n",
    "val = Valkyrie()\n",
    "mechanism = val.mechanism;"
   ]
  },
  {
   "cell_type": "code",
   "execution_count": 21,
   "metadata": {
    "collapsed": false
   },
   "outputs": [],
   "source": [
    "# Add sole frame\n",
    "ankleRoll = first(filter(j -> j.name == \"leftAnkleRoll\", joints(mechanism)))\n",
    "soleFrame = CartesianFrame3D(\"l_foot_sole\")\n",
    "soleToFoot = Transform3D(soleFrame, ankleRoll.frameAfter, SVector(0.067, 0., -0.09))\n",
    "add_body_fixed_frame!(mechanism, soleToFoot);"
   ]
  },
  {
   "cell_type": "code",
   "execution_count": 22,
   "metadata": {
    "collapsed": false
   },
   "outputs": [],
   "source": [
    "# Reroot at the left foot and remove fixed joints\n",
    "pelvis = first(filter(b -> name(b) == \"pelvis\", bodies(mechanism)))\n",
    "pelvisToWorld = first(filter(j -> j.name == \"pelvis_to_world\", joints(mechanism)))\n",
    "leftFoot = first(filter(b -> name(b) == \"leftFoot\", bodies(mechanism)))\n",
    "leftFootToWorld = Joint(\"leftFootToWorld\", Fixed{Float64}())\n",
    "world = root_body(mechanism)\n",
    "attach!(mechanism, world, leftFootToWorld, Transform3D(leftFootToWorld.frameBefore, default_frame(world), -translation(soleToFoot)), leftFoot)\n",
    "remove_joint!(mechanism, pelvisToWorld)"
   ]
  },
  {
   "cell_type": "code",
   "execution_count": 23,
   "metadata": {
    "collapsed": true
   },
   "outputs": [],
   "source": [
    "# remove_fixed_tree_joints!(mechanism); # currently causes vis issues"
   ]
  },
  {
   "cell_type": "code",
   "execution_count": 24,
   "metadata": {
    "collapsed": false
   },
   "outputs": [],
   "source": [
    "# Create visualizer\n",
    "DrakeVisualizer.any_open_windows() || DrakeVisualizer.new_window(); sleep(1)\n",
    "vis = Visualizer()[:valkyrie]\n",
    "setgeometry!(vis, mechanism, parse_urdf(ValkyrieRobot.urdfpath(), mechanism; package_path = [ValkyrieRobot.packagepath()]))"
   ]
  },
  {
   "cell_type": "code",
   "execution_count": 25,
   "metadata": {
    "collapsed": false
   },
   "outputs": [],
   "source": [
    "# Add box to stand on\n",
    "delete!(vis[:box])\n",
    "box = GeometryData(HyperRectangle(Vec(-0.4, -0.08, -0.1), Vec(0.8, 0.6, 0.1)), RGBA(0.4, 0.4, 0.4, 0.8))\n",
    "addgeometry!(vis[:box], box);"
   ]
  },
  {
   "cell_type": "code",
   "execution_count": 26,
   "metadata": {
    "collapsed": false
   },
   "outputs": [],
   "source": [
    "# Create controller\n",
    "centroidalFrame = CartesianFrame3D(\"centroidal\")\n",
    "stanceLegPath = path(mechanism, val.pelvis, root_body(mechanism))\n",
    "stanceLegJoints = collect(stanceLegPath)\n",
    "positionControlledJoints = collect(filter(j -> j ∉ stanceLegJoints, joints(mechanism)))\n",
    "controller = VariableHeightMomentumController(mechanism, positionControlledJoints, centroidalFrame, soleFrame, val.pelvis);"
   ]
  },
  {
   "cell_type": "code",
   "execution_count": 27,
   "metadata": {
    "collapsed": false
   },
   "outputs": [
    {
     "data": {
      "text/plain": [
       "passive_dynamics! (generic function with 1 method)"
      ]
     },
     "execution_count": 27,
     "metadata": {},
     "output_type": "execute_result"
    }
   ],
   "source": [
    "function passive_dynamics!(vd::AbstractArray, t, state)\n",
    "    dynamics!(result, state)\n",
    "    copy!(vd, result.v̇)\n",
    "    copy!(sd, result.ṡ)\n",
    "end"
   ]
  },
  {
   "cell_type": "code",
   "execution_count": 28,
   "metadata": {
    "collapsed": false
   },
   "outputs": [
    {
     "data": {
      "text/plain": [
       "controlled_dynamics! (generic function with 1 method)"
      ]
     },
     "execution_count": 28,
     "metadata": {},
     "output_type": "execute_result"
    }
   ],
   "source": [
    "function controlled_dynamics!(vd::AbstractArray, sd::AbstractArray, t, state)\n",
    "    torques = control(controller, t, state)\n",
    "    dynamics!(result, state, torques)\n",
    "    copy!(vd, result.v̇)\n",
    "    copy!(sd, result.ṡ)\n",
    "end"
   ]
  },
  {
   "cell_type": "code",
   "execution_count": 29,
   "metadata": {
    "collapsed": false
   },
   "outputs": [
    {
     "name": "stderr",
     "output_type": "stream",
     "text": [
      "WARNING: redefining constant τ\n"
     ]
    },
    {
     "data": {
      "text/plain": [
       "damped_dynamics! (generic function with 1 method)"
      ]
     },
     "execution_count": 29,
     "metadata": {},
     "output_type": "execute_result"
    }
   ],
   "source": [
    "const τ = Vector{Float64}(num_velocities(mechanism))\n",
    "function damped_dynamics!(vd::AbstractArray, sd::AbstractArray, t, state)\n",
    "    τ[:] = velocity(state)\n",
    "    scale!(τ, -1.0)\n",
    "    dynamics!(result, state, τ)\n",
    "    copy!(vd, result.v̇)\n",
    "    copy!(sd, result.ṡ)\n",
    "end"
   ]
  },
  {
   "cell_type": "code",
   "execution_count": 30,
   "metadata": {
    "collapsed": false
   },
   "outputs": [],
   "source": [
    "# Simulation\n",
    "state = MechanismState{Float64}(mechanism)\n",
    "result = DynamicsResult{Float64}(mechanism)\n",
    "# dyn! = damped_dynamics!\n",
    "dyn! = controlled_dynamics!\n",
    "sink = ExpandingStorage{Float64}(10000)\n",
    "# sink = DrakeVisualizerSink(vis)\n",
    "integrator = MuntheKaasIntegrator(dyn!, runge_kutta_4(Float64), sink);"
   ]
  },
  {
   "cell_type": "code",
   "execution_count": 31,
   "metadata": {
    "collapsed": false
   },
   "outputs": [
    {
     "data": {
      "text/plain": [
       "1.2"
      ]
     },
     "execution_count": 31,
     "metadata": {},
     "output_type": "execute_result"
    }
   ],
   "source": [
    "zero!(state)\n",
    "θroll = 0.16\n",
    "θstanceKnee = 1.\n",
    "configuration(state, findjoint(mechanism, \"leftAnkleRoll\"))[:] = θroll\n",
    "configuration(state, findjoint(mechanism, \"leftHipRoll\"))[:] = -θroll\n",
    "configuration(state, findjoint(mechanism, \"leftKneePitch\"))[:] = θstanceKnee\n",
    "configuration(state, findjoint(mechanism, \"leftHipPitch\"))[:] = -θstanceKnee\n",
    "configuration(state, findjoint(mechanism, \"rightHipRoll\"))[:] = -0.1\n",
    "configuration(state, findjoint(mechanism, \"leftShoulderRoll\"))[:] = -1.\n",
    "configuration(state, findjoint(mechanism, \"rightShoulderRoll\"))[:] = 1.\n",
    "configuration(state, findjoint(mechanism, \"leftShoulderYaw\"))[:] = 1.2\n",
    "configuration(state, findjoint(mechanism, \"rightShoulderYaw\"))[:] = 1.2"
   ]
  },
  {
   "cell_type": "code",
   "execution_count": 32,
   "metadata": {
    "collapsed": false
   },
   "outputs": [],
   "source": [
    "xd = 1.1#1.0 + (1.4 - 1.0) * rand()\n",
    "initialize_state!(state, xd, positionControlledJoints)\n",
    "settransform!(vis, state)\n",
    "for joint in positionControlledJoints\n",
    "    set_desired_configuration!(controller, joint, configuration(state, joint))\n",
    "end"
   ]
  },
  {
   "cell_type": "code",
   "execution_count": 33,
   "metadata": {
    "collapsed": false
   },
   "outputs": [],
   "source": [
    "addgeometry!(vis, mechanism, Point3D(root_frame(mechanism), 0., -0.0426075, 0.0); radius=0.02)"
   ]
  },
  {
   "cell_type": "code",
   "execution_count": 34,
   "metadata": {
    "collapsed": false
   },
   "outputs": [
    {
     "name": "stdout",
     "output_type": "stream",
     "text": [
      " 12"
     ]
    }
   ],
   "source": [
    "@time integrate(integrator, state, 2., 1e-3, maxRealtimeRate = Inf)"
   ]
  },
  {
   "cell_type": "code",
   "execution_count": 40,
   "metadata": {
    "collapsed": false
   },
   "outputs": [],
   "source": [
    "animate(vis, mechanism, sink.ts, sink.qs; realtimerate = 0.2, fps = 150.)"
   ]
  },
  {
   "cell_type": "code",
   "execution_count": null,
   "metadata": {
    "collapsed": true
   },
   "outputs": [],
   "source": []
  }
 ],
 "metadata": {
  "kernelspec": {
   "display_name": "Julia 0.6.0",
   "language": "julia",
   "name": "julia-0.6"
  },
  "language_info": {
   "file_extension": ".jl",
   "mimetype": "application/julia",
   "name": "julia",
   "version": "0.6.0"
  }
 },
 "nbformat": 4,
 "nbformat_minor": 1
}
