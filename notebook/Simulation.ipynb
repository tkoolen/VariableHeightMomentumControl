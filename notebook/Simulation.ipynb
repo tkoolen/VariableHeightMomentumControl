{
 "cells": [
  {
   "cell_type": "code",
   "execution_count": 1,
   "metadata": {
    "collapsed": false
   },
   "outputs": [
    {
     "data": {
      "text/html": [
       "<div id=\"interact-js-shim\">\n",
       "    <script charset=\"utf-8\">\n",
       "(function (IPython, $, _, MathJax) {\n",
       "    $.event.special.destroyed = {\n",
       "\tremove: function(o) {\n",
       "\t    if (o.handler) {\n",
       "\t\to.handler.apply(this, arguments)\n",
       "\t    }\n",
       "\t}\n",
       "    }\n",
       "\n",
       "    var OutputArea = IPython.version >= \"4.0.0\" ? require(\"notebook/js/outputarea\").OutputArea : IPython.OutputArea;\n",
       "\n",
       "    var redrawValue = function (container, type, val) {\n",
       "\tvar selector = $(\"<div/>\");\n",
       "\tvar oa = new OutputArea(_.extend(selector, {\n",
       "\t    selector: selector,\n",
       "\t    prompt_area: true,\n",
       "\t    events: IPython.events,\n",
       "\t    keyboard_manager: IPython.keyboard_manager\n",
       "\t})); // Hack to work with IPython 2.1.0\n",
       "\n",
       "\tswitch (type) {\n",
       "\tcase \"image/png\":\n",
       "            var _src = 'data:' + type + ';base64,' + val;\n",
       "\t    $(container).find(\"img\").attr('src', _src);\n",
       "\t    break;\n",
       "\tcase \"text/latex\":\n",
       "\t\tif (MathJax){\n",
       "\t\t\tvar math = MathJax.Hub.getAllJax(container)[0];\n",
       "\t\t\tMathJax.Hub.Queue([\"Text\", math, val.replace(/^\\${1,2}|\\${1,2}$/g, '')]);\n",
       "\t\t\tbreak;\n",
       "\t\t}\n",
       "\tdefault:\n",
       "\t    var toinsert = OutputArea.append_map[type].apply(\n",
       "\t\toa, [val, {}, selector]\n",
       "\t    );\n",
       "\t    $(container).empty().append(toinsert.contents());\n",
       "\t    selector.remove();\n",
       "\t}\n",
       "    }\n",
       "\n",
       "\n",
       "    $(document).ready(function() {\n",
       "\tfunction initComm(evt, data) {\n",
       "\t    var comm_manager = data.kernel.comm_manager;\n",
       "        //_.extend(comm_manager.targets, require(\"widgets/js/widget\"))\n",
       "\t    comm_manager.register_target(\"Signal\", function (comm) {\n",
       "            comm.on_msg(function (msg) {\n",
       "                var val = msg.content.data.value;\n",
       "                $(\".signal-\" + comm.comm_id).each(function() {\n",
       "                var type = $(this).data(\"type\");\n",
       "                if (typeof(val[type]) !== \"undefined\" && val[type] !== null) {\n",
       "                    redrawValue(this, type, val[type], type);\n",
       "                }\n",
       "                });\n",
       "                delete val;\n",
       "                delete msg.content.data.value;\n",
       "            });\n",
       "\t    });\n",
       "\n",
       "\t    // coordingate with Comm and redraw Signals\n",
       "\t    // XXX: Test using Reactive here to improve performance\n",
       "\t    $([IPython.events]).on(\n",
       "\t\t'output_appended.OutputArea', function (event, type, value, md, toinsert) {\n",
       "\t\t    if (md && md.reactive) {\n",
       "                // console.log(md.comm_id);\n",
       "                toinsert.addClass(\"signal-\" + md.comm_id);\n",
       "                toinsert.data(\"type\", type);\n",
       "                // Signal back indicating the mimetype required\n",
       "                var comm_manager = IPython.notebook.kernel.comm_manager;\n",
       "                var comm = comm_manager.comms[md.comm_id];\n",
       "                comm.then(function (c) {\n",
       "                    c.send({action: \"subscribe_mime\",\n",
       "                       mime: type});\n",
       "                    toinsert.bind(\"destroyed\", function() {\n",
       "                        c.send({action: \"unsubscribe_mime\",\n",
       "                               mime: type});\n",
       "                    });\n",
       "                })\n",
       "\t\t    }\n",
       "\t    });\n",
       "\t}\n",
       "\n",
       "\ttry {\n",
       "\t    // try to initialize right away. otherwise, wait on the status_started event.\n",
       "\t    initComm(undefined, IPython.notebook);\n",
       "\t} catch (e) {\n",
       "\t    $([IPython.events]).on('kernel_created.Kernel kernel_created.Session', initComm);\n",
       "\t}\n",
       "    });\n",
       "})(IPython, jQuery, _, MathJax);\n",
       "</script>\n",
       "    <script>\n",
       "        window.interactLoadedFlag = true\n",
       "       $(\"#interact-js-shim\").bind(\"destroyed\", function () {\n",
       "           if (window.interactLoadedFlag) {\n",
       "               console.warn(\"JavaScript required by Interact will be removed if you remove this cell or run using Interact more than once.\")\n",
       "           }\n",
       "       })\n",
       "       $([IPython.events]).on(\"kernel_starting.Kernel kernel_restarting.Kernel\", function () { window.interactLoadedFlag = false })\n",
       "   </script>\n",
       "</div>"
      ]
     },
     "metadata": {},
     "output_type": "display_data"
    }
   ],
   "source": [
    "using VariableHeightMomentumControl\n",
    "using RigidBodyDynamics\n",
    "using RigidBodyDynamics.OdeIntegrators\n",
    "using RigidBodyTreeInspector\n",
    "using StaticArrays\n",
    "using DrakeVisualizer\n",
    "using ValkyrieRobot\n",
    "using GeometryTypes\n",
    "using ColorTypes"
   ]
  },
  {
   "cell_type": "code",
   "execution_count": 2,
   "metadata": {
    "collapsed": false
   },
   "outputs": [],
   "source": [
    "# Create mechanism\n",
    "val = Valkyrie()\n",
    "mechanism = val.mechanism;"
   ]
  },
  {
   "cell_type": "code",
   "execution_count": 3,
   "metadata": {
    "collapsed": false
   },
   "outputs": [],
   "source": [
    "# Add sole frame\n",
    "ankleRoll = first(filter(j -> j.name == \"leftAnkleRoll\", joints(mechanism)))\n",
    "soleFrame = CartesianFrame3D(\"l_foot_sole\")\n",
    "soleToFoot = Transform3D(soleFrame, ankleRoll.frameAfter, SVector(0.067, 0., -0.09))\n",
    "add_body_fixed_frame!(mechanism, soleToFoot);"
   ]
  },
  {
   "cell_type": "code",
   "execution_count": 4,
   "metadata": {
    "collapsed": false
   },
   "outputs": [],
   "source": [
    "# Reroot at the left foot and remove fixed joints\n",
    "pelvis = first(filter(b -> name(b) == \"pelvis\", bodies(mechanism)))\n",
    "pelvisToWorld = first(filter(j -> j.name == \"pelvis_to_world\", joints(mechanism)))\n",
    "leftFoot = first(filter(b -> name(b) == \"leftFoot\", bodies(mechanism)))\n",
    "leftFootToWorld = Joint(\"leftFootToWorld\", Fixed{Float64}())\n",
    "world = root_body(mechanism)\n",
    "attach!(mechanism, world, leftFootToWorld, Transform3D(leftFootToWorld.frameBefore, default_frame(world), -translation(soleToFoot)), leftFoot)\n",
    "remove_joint!(mechanism, pelvisToWorld)"
   ]
  },
  {
   "cell_type": "code",
   "execution_count": 5,
   "metadata": {
    "collapsed": true
   },
   "outputs": [],
   "source": [
    "# remove_fixed_tree_joints!(mechanism); # currently causes vis issues"
   ]
  },
  {
   "cell_type": "code",
   "execution_count": 6,
   "metadata": {
    "collapsed": false
   },
   "outputs": [],
   "source": [
    "# Create visualizer\n",
    "DrakeVisualizer.any_open_windows() || DrakeVisualizer.new_window(); sleep(1)\n",
    "vis = Visualizer()[:valkyrie]\n",
    "setgeometry!(vis, mechanism, parse_urdf(ValkyrieRobot.urdfpath(), mechanism; package_path = [ValkyrieRobot.packagepath()]))"
   ]
  },
  {
   "cell_type": "code",
   "execution_count": 7,
   "metadata": {
    "collapsed": false
   },
   "outputs": [
    {
     "data": {
      "text/plain": [
       "Visualizer with path prefix Symbol[:valkyrie, :box] using LCM LCMCore.LCM(Ptr{Void} @0x0000000003f9a020, \"\", RawFD(61), LCMCore.Subscription[LCMCore.Subscription{LCMCore.SubscriptionOptions{DrakeVisualizer.Comms.CommsT,DrakeVisualizer.#handle_msg#9{DrakeVisualizer.CoreVisualizer}}}(LCMCore.SubscriptionOptions{DrakeVisualizer.Comms.CommsT,DrakeVisualizer.#handle_msg#9{DrakeVisualizer.CoreVisualizer}}(DrakeVisualizer.Comms.CommsT, DrakeVisualizer.handle_msg), Ptr{Void} @0x0000000004d2ee00)])"
      ]
     },
     "execution_count": 7,
     "metadata": {},
     "output_type": "execute_result"
    }
   ],
   "source": [
    "# Add box to stand on\n",
    "delete!(vis[:box])\n",
    "box = GeometryData(HyperRectangle(Vec(-0.4, -0.08, -0.1), Vec(0.8, 0.6, 0.1)), RGBA(0.4, 0.4, 0.4, 0.8))\n",
    "addgeometry!(vis[:box], box)"
   ]
  },
  {
   "cell_type": "code",
   "execution_count": 17,
   "metadata": {
    "collapsed": false
   },
   "outputs": [
    {
     "name": "stderr",
     "output_type": "stream",
     "text": [
      "WARNING: Method definition (::Type{VariableHeightMomentumControl.VariableHeightMomentumController})(RigidBodyDynamics.Mechanism{T} where T, Array{RigidBodyDynamics.Joint{Float64, RigidBodyDynamics.JointType{Float64}}, 1}, RigidBodyDynamics.CartesianFrame3D, RigidBodyDynamics.CartesianFrame3D) in module VariableHeightMomentumControl at /home/twan/code/RigidBodyDynamics/v0.6/VariableHeightMomentumControl/src/control.jl:18 overwritten at /home/twan/code/RigidBodyDynamics/v0.6/VariableHeightMomentumControl/src/control.jl:18.\n"
     ]
    }
   ],
   "source": [
    "# Create controller\n",
    "centroidalFrame = CartesianFrame3D(\"centroidal\")\n",
    "# pelvisVertex = findfirst(v -> name(vertex_data(v)) == \"pelvis\", tree(mechanism))\n",
    "# stanceFootVertex = findfirst(v -> name(vertex_data(v)) == \"world\", tree(mechanism))\n",
    "# stanceLegPath = path(pelvisVertex, stanceFootVertex)\n",
    "stanceLegPath = path(mechanism, pelvis, root_body(mechanism))\n",
    "stanceLegJoints = collect(stanceLegPath)\n",
    "positionControlledJoints = collect(filter(j -> j ∉ stanceLegJoints, joints(mechanism)))\n",
    "controller = VariableHeightMomentumController(mechanism, positionControlledJoints, centroidalFrame, soleFrame);"
   ]
  },
  {
   "cell_type": "code",
   "execution_count": 18,
   "metadata": {
    "collapsed": false
   },
   "outputs": [
    {
     "data": {
      "text/plain": [
       "passive_dynamics! (generic function with 1 method)"
      ]
     },
     "execution_count": 18,
     "metadata": {},
     "output_type": "execute_result"
    }
   ],
   "source": [
    "function passive_dynamics!(vd::AbstractArray, t, state)\n",
    "    dynamics!(result, state)\n",
    "    copy!(vd, result.v̇)\n",
    "    copy!(sd, result.ṡ)\n",
    "end"
   ]
  },
  {
   "cell_type": "code",
   "execution_count": 19,
   "metadata": {
    "collapsed": false
   },
   "outputs": [
    {
     "data": {
      "text/plain": [
       "controlled_dynamics! (generic function with 1 method)"
      ]
     },
     "execution_count": 19,
     "metadata": {},
     "output_type": "execute_result"
    }
   ],
   "source": [
    "function controlled_dynamics!(vd::AbstractArray, sd::AbstractArray, t, state)\n",
    "    torques = control(controller, t, state)\n",
    "    dynamics!(result, state, torques)\n",
    "    copy!(vd, result.v̇)\n",
    "    copy!(sd, result.ṡ)\n",
    "end"
   ]
  },
  {
   "cell_type": "code",
   "execution_count": 20,
   "metadata": {
    "collapsed": false
   },
   "outputs": [
    {
     "name": "stderr",
     "output_type": "stream",
     "text": [
      "WARNING: redefining constant τ\n"
     ]
    },
    {
     "data": {
      "text/plain": [
       "damped_dynamics! (generic function with 1 method)"
      ]
     },
     "execution_count": 20,
     "metadata": {},
     "output_type": "execute_result"
    }
   ],
   "source": [
    "const τ = Vector{Float64}(num_velocities(mechanism))\n",
    "function damped_dynamics!(vd::AbstractArray, sd::AbstractArray, t, state)\n",
    "    τ[:] = velocity(state)\n",
    "    scale!(τ, -1.0)\n",
    "    dynamics!(result, state, τ)\n",
    "    copy!(vd, result.v̇)\n",
    "    copy!(sd, result.ṡ)\n",
    "end"
   ]
  },
  {
   "cell_type": "code",
   "execution_count": 21,
   "metadata": {
    "collapsed": false
   },
   "outputs": [],
   "source": [
    "# Simulation\n",
    "state = MechanismState{Float64}(mechanism)\n",
    "result = DynamicsResult{Float64}(mechanism)\n",
    "# dyn! = damped_dynamics!\n",
    "dyn! = controlled_dynamics!\n",
    "integrator = MuntheKaasIntegrator(dyn!, runge_kutta_4(Float64), DrakeVisualizerSink(vis));"
   ]
  },
  {
   "cell_type": "code",
   "execution_count": 45,
   "metadata": {
    "collapsed": false
   },
   "outputs": [
    {
     "data": {
      "text/plain": [
       "1.2"
      ]
     },
     "execution_count": 45,
     "metadata": {},
     "output_type": "execute_result"
    }
   ],
   "source": [
    "zero!(state)\n",
    "θroll = 0.16\n",
    "θstanceKnee = 1.\n",
    "configuration(state, findjoint(mechanism, \"leftAnkleRoll\"))[:] = θroll\n",
    "configuration(state, findjoint(mechanism, \"leftHipRoll\"))[:] = -θroll\n",
    "configuration(state, findjoint(mechanism, \"leftKneePitch\"))[:] = θstanceKnee\n",
    "configuration(state, findjoint(mechanism, \"leftHipPitch\"))[:] = -θstanceKnee\n",
    "configuration(state, findjoint(mechanism, \"rightHipRoll\"))[:] = -0.1\n",
    "configuration(state, findjoint(mechanism, \"leftShoulderRoll\"))[:] = -1.\n",
    "configuration(state, findjoint(mechanism, \"rightShoulderRoll\"))[:] = 1.\n",
    "configuration(state, findjoint(mechanism, \"leftShoulderYaw\"))[:] = 1.2\n",
    "configuration(state, findjoint(mechanism, \"rightShoulderYaw\"))[:] = 1.2"
   ]
  },
  {
   "cell_type": "code",
   "execution_count": 46,
   "metadata": {
    "collapsed": false
   },
   "outputs": [],
   "source": [
    "xd = 1.0 + (1.4 - 1.0) * rand()\n",
    "initialize_state!(state, xd, positionControlledJoints)\n",
    "settransform!(vis, state)\n",
    "for joint in positionControlledJoints\n",
    "    set_desired_configuration!(controller, joint, configuration(state, joint))\n",
    "end"
   ]
  },
  {
   "cell_type": "code",
   "execution_count": 47,
   "metadata": {
    "collapsed": false
   },
   "outputs": [
    {
     "name": "stdout",
     "output_type": "stream",
     "text": [
      " 19.850667 seconds (51.25 M allocations: 3.659 GiB, 4.79% gc time)\n"
     ]
    }
   ],
   "source": [
    "@time integrate(integrator, state, 3., 1e-3, maxRealtimeRate = Inf)"
   ]
  },
  {
   "cell_type": "code",
   "execution_count": null,
   "metadata": {
    "collapsed": true
   },
   "outputs": [],
   "source": []
  }
 ],
 "metadata": {
  "kernelspec": {
   "display_name": "Julia 0.6.0",
   "language": "julia",
   "name": "julia-0.6"
  },
  "language_info": {
   "file_extension": ".jl",
   "mimetype": "application/julia",
   "name": "julia",
   "version": "0.6.0"
  }
 },
 "nbformat": 4,
 "nbformat_minor": 1
}
