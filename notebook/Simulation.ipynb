{
 "cells": [
  {
   "cell_type": "code",
   "execution_count": 1,
   "metadata": {
    "collapsed": false
   },
   "outputs": [
    {
     "data": {
      "text/html": [
       "<div id=\"interact-js-shim\">\n",
       "    <script charset=\"utf-8\">\n",
       "(function (IPython, $, _, MathJax) {\n",
       "    $.event.special.destroyed = {\n",
       "\tremove: function(o) {\n",
       "\t    if (o.handler) {\n",
       "\t\to.handler.apply(this, arguments)\n",
       "\t    }\n",
       "\t}\n",
       "    }\n",
       "\n",
       "    var OutputArea = IPython.version >= \"4.0.0\" ? require(\"notebook/js/outputarea\").OutputArea : IPython.OutputArea;\n",
       "\n",
       "    var redrawValue = function (container, type, val) {\n",
       "\tvar selector = $(\"<div/>\");\n",
       "\tvar oa = new OutputArea(_.extend(selector, {\n",
       "\t    selector: selector,\n",
       "\t    prompt_area: true,\n",
       "\t    events: IPython.events,\n",
       "\t    keyboard_manager: IPython.keyboard_manager\n",
       "\t})); // Hack to work with IPython 2.1.0\n",
       "\n",
       "\tswitch (type) {\n",
       "\tcase \"image/png\":\n",
       "            var _src = 'data:' + type + ';base64,' + val;\n",
       "\t    $(container).find(\"img\").attr('src', _src);\n",
       "\t    break;\n",
       "\tdefault:\n",
       "\t    var toinsert = OutputArea.append_map[type].apply(\n",
       "\t\toa, [val, {}, selector]\n",
       "\t    );\n",
       "\t    $(container).empty().append(toinsert.contents());\n",
       "\t    selector.remove();\n",
       "\t}\n",
       "\tif (type === \"text/latex\" && MathJax) {\n",
       "\t    MathJax.Hub.Queue([\"Typeset\", MathJax.Hub, toinsert.get(0)]);\n",
       "\t}\n",
       "    }\n",
       "\n",
       "\n",
       "    $(document).ready(function() {\n",
       "\tfunction initComm(evt, data) {\n",
       "\t    var comm_manager = data.kernel.comm_manager;\n",
       "        //_.extend(comm_manager.targets, require(\"widgets/js/widget\"))\n",
       "\t    comm_manager.register_target(\"Signal\", function (comm) {\n",
       "            comm.on_msg(function (msg) {\n",
       "                //Widgets.log(\"message received\", msg);\n",
       "                var val = msg.content.data.value;\n",
       "                $(\".signal-\" + comm.comm_id).each(function() {\n",
       "                var type = $(this).data(\"type\");\n",
       "                if (val[type]) {\n",
       "                    redrawValue(this, type, val[type], type);\n",
       "                }\n",
       "                });\n",
       "                delete val;\n",
       "                delete msg.content.data.value;\n",
       "            });\n",
       "\t    });\n",
       "\n",
       "\t    // coordingate with Comm and redraw Signals\n",
       "\t    // XXX: Test using Reactive here to improve performance\n",
       "\t    $([IPython.events]).on(\n",
       "\t\t'output_appended.OutputArea', function (event, type, value, md, toinsert) {\n",
       "\t\t    if (md && md.reactive) {\n",
       "                // console.log(md.comm_id);\n",
       "                toinsert.addClass(\"signal-\" + md.comm_id);\n",
       "                toinsert.data(\"type\", type);\n",
       "                // Signal back indicating the mimetype required\n",
       "                var comm_manager = IPython.notebook.kernel.comm_manager;\n",
       "                var comm = comm_manager.comms[md.comm_id];\n",
       "                comm.then(function (c) {\n",
       "                    c.send({action: \"subscribe_mime\",\n",
       "                       mime: type});\n",
       "                    toinsert.bind(\"destroyed\", function() {\n",
       "                        c.send({action: \"unsubscribe_mime\",\n",
       "                               mime: type});\n",
       "                    });\n",
       "                })\n",
       "\t\t    }\n",
       "\t    });\n",
       "\t}\n",
       "\n",
       "\ttry {\n",
       "\t    // try to initialize right away. otherwise, wait on the status_started event.\n",
       "\t    initComm(undefined, IPython.notebook);\n",
       "\t} catch (e) {\n",
       "\t    $([IPython.events]).on('kernel_created.Kernel kernel_created.Session', initComm);\n",
       "\t}\n",
       "    });\n",
       "})(IPython, jQuery, _, MathJax);\n",
       "</script>\n",
       "    <script>\n",
       "        window.interactLoadedFlag = true\n",
       "       $(\"#interact-js-shim\").bind(\"destroyed\", function () {\n",
       "           if (window.interactLoadedFlag) {\n",
       "               console.warn(\"JavaScript required by Interact will be removed if you remove this cell or run using Interact more than once.\")\n",
       "           }\n",
       "       })\n",
       "       $([IPython.events]).on(\"kernel_starting.Kernel kernel_restarting.Kernel\", function () { window.interactLoadedFlag = false })\n",
       "   </script>\n",
       "</div>"
      ]
     },
     "metadata": {},
     "output_type": "display_data"
    },
    {
     "name": "stdout",
     "output_type": "stream",
     "text": [
      "adding: /Users/twan/code/julia/RigidBodyDynamics/v0.5/DrakeVisualizer/src/lcmtypes to the python path\n"
     ]
    }
   ],
   "source": [
    "using VariableHeightMomentumControl\n",
    "using RigidBodyDynamics\n",
    "using RigidBodyDynamics.TreeDataStructure\n",
    "using RigidBodyDynamics.OdeIntegrators\n",
    "using StaticArrays"
   ]
  },
  {
   "cell_type": "code",
   "execution_count": 2,
   "metadata": {
    "collapsed": true
   },
   "outputs": [],
   "source": [
    "# TODO: grab everything off of github and cache\n",
    "DRAKE_DISTRO = \"$(ENV[\"HOME\"])/code/drake-distro\"\n",
    "urdf = \"$DRAKE_DISTRO/drake/examples/Valkyrie/urdf/urdf/valkyrie_A_sim_drake_one_neck_dof_wide_ankle_rom.urdf\"\n",
    "mechanism = RigidBodyDynamics.parse_urdf(Float64, urdf);"
   ]
  },
  {
   "cell_type": "code",
   "execution_count": 3,
   "metadata": {
    "collapsed": false
   },
   "outputs": [],
   "source": [
    "# Create visualizer\n",
    "vis = parse_urdf(urdf, mechanism; package_path = [\"$DRAKE_DISTRO/drake/examples\"]);"
   ]
  },
  {
   "cell_type": "code",
   "execution_count": 4,
   "metadata": {
    "collapsed": false
   },
   "outputs": [],
   "source": [
    "# Add sole frame\n",
    "ankleRoll = edge_to_parent_data(findfirst(v -> !isroot(v) && edge_to_parent_data(v).name == \"leftAnkleRoll\", tree(mechanism)))\n",
    "soleFrame = CartesianFrame3D(\"l_foot_sole\")\n",
    "soleToFoot = Transform3D(soleFrame, ankleRoll.frameAfter, SVector(0.067, 0., -0.09))\n",
    "add_body_fixed_frame!(mechanism, soleToFoot);"
   ]
  },
  {
   "cell_type": "code",
   "execution_count": 5,
   "metadata": {
    "collapsed": false
   },
   "outputs": [],
   "source": [
    "# Reroot at the left foot and remove fixed joints\n",
    "pelvis = vertex_data(findfirst(v -> name(vertex_data(v)) == \"pelvis\", tree(mechanism)))\n",
    "leftFoot = vertex_data(findfirst(v -> name(vertex_data(v)) == \"leftFoot\", tree(mechanism)))\n",
    "leftFootToWorld = Joint(\"\", Fixed{Float64}())\n",
    "world = root_body(mechanism)\n",
    "reattach!(mechanism, pelvis, \n",
    "    world, leftFootToWorld, Transform3D(leftFootToWorld.frameBefore, world.frame, -soleToFoot.trans), \n",
    "    leftFoot, Transform3D{Float64}(leftFoot.frame, leftFootToWorld.frameAfter))\n",
    "remove_fixed_joints!(mechanism);"
   ]
  },
  {
   "cell_type": "code",
   "execution_count": 6,
   "metadata": {
    "collapsed": false
   },
   "outputs": [],
   "source": [
    "# Create controller\n",
    "centroidalFrame = CartesianFrame3D(\"centroidal\")\n",
    "pelvisVertex = findfirst(v -> name(vertex_data(v)) == \"pelvis\", tree(mechanism))\n",
    "stanceFootVertex = findfirst(v -> name(vertex_data(v)) == \"world\", tree(mechanism))\n",
    "stanceLegPath = path(pelvisVertex, stanceFootVertex)\n",
    "positionControlledJoints = collect(filter(j -> j ∉ stanceLegPath.edgeData, joints(mechanism)))\n",
    "controller = VariableHeightMomentumController(mechanism, positionControlledJoints, centroidalFrame, soleFrame);"
   ]
  },
  {
   "cell_type": "code",
   "execution_count": 7,
   "metadata": {
    "collapsed": false
   },
   "outputs": [
    {
     "data": {
      "text/plain": [
       "passive_dynamics! (generic function with 1 method)"
      ]
     },
     "execution_count": 7,
     "metadata": {},
     "output_type": "execute_result"
    }
   ],
   "source": [
    "function passive_dynamics!(vd::AbstractArray, t, state)\n",
    "    dynamics!(result, state)\n",
    "    copy!(vd, result.v̇)\n",
    "end"
   ]
  },
  {
   "cell_type": "code",
   "execution_count": 8,
   "metadata": {
    "collapsed": false
   },
   "outputs": [
    {
     "data": {
      "text/plain": [
       "controlled_dynamics! (generic function with 1 method)"
      ]
     },
     "execution_count": 8,
     "metadata": {},
     "output_type": "execute_result"
    }
   ],
   "source": [
    "function controlled_dynamics!(vd::AbstractArray, t, state)\n",
    "    torques = control(controller, t, state)\n",
    "    dynamics!(result, state, torques)\n",
    "    copy!(vd, result.v̇)\n",
    "end"
   ]
  },
  {
   "cell_type": "code",
   "execution_count": 9,
   "metadata": {
    "collapsed": false
   },
   "outputs": [],
   "source": [
    "# Simulation\n",
    "state = MechanismState(Float64, mechanism)\n",
    "result = DynamicsResult(Float64, mechanism)\n",
    "integrator = MuntheKaasIntegrator(controlled_dynamics!, runge_kutta_4(Float64), DrakeVisualizerSink(vis, 1e-2));"
   ]
  },
  {
   "cell_type": "code",
   "execution_count": 10,
   "metadata": {
    "collapsed": false
   },
   "outputs": [
    {
     "data": {
      "text/plain": [
       "Joint \"leftHipRoll_flipped\": Revolute joint with axis [-1.0,-0.0,-0.0]"
      ]
     },
     "execution_count": 10,
     "metadata": {},
     "output_type": "execute_result"
    }
   ],
   "source": [
    "ankleRoll = edge_to_parent_data(findfirst(v -> !isroot(v) && edge_to_parent_data(v).name == \"leftAnkleRoll_flipped\", tree(mechanism)))\n",
    "knee = edge_to_parent_data(findfirst(v -> !isroot(v) && edge_to_parent_data(v).name == \"leftKneePitch_flipped\", tree(mechanism)))\n",
    "hipPitch = edge_to_parent_data(findfirst(v -> !isroot(v) && edge_to_parent_data(v).name == \"leftHipPitch_flipped\", tree(mechanism)))\n",
    "hipRoll = edge_to_parent_data(findfirst(v -> !isroot(v) && edge_to_parent_data(v).name == \"leftHipRoll_flipped\", tree(mechanism)))"
   ]
  },
  {
   "cell_type": "code",
   "execution_count": 12,
   "metadata": {
    "collapsed": false
   },
   "outputs": [
    {
     "ename": "LoadError",
     "evalue": "LoadError: AssertionError: all(isnan(cop.v)) || isapprox(cop.v[1],0.0,atol=1.0e-8)\nwhile loading In[12], in expression starting on line 3",
     "output_type": "error",
     "traceback": [
      "LoadError: AssertionError: all(isnan(cop.v)) || isapprox(cop.v[1],0.0,atol=1.0e-8)\nwhile loading In[12], in expression starting on line 3",
      "",
      " in control(::VariableHeightMomentumControl.VariableHeightMomentumController, ::Float64, ::RigidBodyDynamics.MechanismState{Float64,Float64,Float64}) at /Users/twan/code/julia/RigidBodyDynamics/v0.5/VariableHeightMomentumControl/src/control.jl:81",
      " in controlled_dynamics! at ./In[8]:2 [inlined]",
      " in step(::RigidBodyDynamics.OdeIntegrators.MuntheKaasIntegrator{4,Float64,#controlled_dynamics!,VariableHeightMomentumControl.DrakeVisualizerSink,16}, ::Float64, ::RigidBodyDynamics.MechanismState{Float64,Float64,Float64}, ::Float64) at /Users/twan/code/julia/RigidBodyDynamics/v0.5/RigidBodyDynamics/src/ode_integrators.jl:190",
      " in integrate(::RigidBodyDynamics.OdeIntegrators.MuntheKaasIntegrator{4,Float64,#controlled_dynamics!,VariableHeightMomentumControl.DrakeVisualizerSink,16}, ::RigidBodyDynamics.MechanismState{Float64,Float64,Float64}, ::Float64, ::Float64) at /Users/twan/code/julia/RigidBodyDynamics/v0.5/RigidBodyDynamics/src/ode_integrators.jl:222"
     ]
    }
   ],
   "source": [
    "xd = 1.0 + (1.4 - 1.0) * rand()\n",
    "initialize_state!(state, xd, positionControlledJoints, ankleRoll, hipRoll, knee, hipPitch)\n",
    "integrate(integrator, state, 1.5, 1e-3)\n",
    "# control(controller, 0., state)"
   ]
  },
  {
   "cell_type": "code",
   "execution_count": null,
   "metadata": {
    "collapsed": true
   },
   "outputs": [],
   "source": []
  }
 ],
 "metadata": {
  "kernelspec": {
   "display_name": "Julia 0.5.0 -O3 --check-bounds=no --math-mode=fast",
   "language": "julia",
   "name": "julia-0.5-for-benchmarking"
  },
  "language_info": {
   "file_extension": ".jl",
   "mimetype": "application/julia",
   "name": "julia",
   "version": "0.5.0"
  }
 },
 "nbformat": 4,
 "nbformat_minor": 1
}
