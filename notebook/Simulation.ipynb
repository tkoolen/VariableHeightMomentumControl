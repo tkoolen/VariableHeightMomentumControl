{
 "cells": [
  {
   "cell_type": "code",
   "execution_count": 1,
   "metadata": {
    "collapsed": false
   },
   "outputs": [
    {
     "data": {
      "text/html": [
       "<div id=\"interact-js-shim\">\n",
       "    <script charset=\"utf-8\">\n",
       "(function (IPython, $, _, MathJax) {\n",
       "    $.event.special.destroyed = {\n",
       "\tremove: function(o) {\n",
       "\t    if (o.handler) {\n",
       "\t\to.handler.apply(this, arguments)\n",
       "\t    }\n",
       "\t}\n",
       "    }\n",
       "\n",
       "    var OutputArea = IPython.version >= \"4.0.0\" ? require(\"notebook/js/outputarea\").OutputArea : IPython.OutputArea;\n",
       "\n",
       "    var redrawValue = function (container, type, val) {\n",
       "\tvar selector = $(\"<div/>\");\n",
       "\tvar oa = new OutputArea(_.extend(selector, {\n",
       "\t    selector: selector,\n",
       "\t    prompt_area: true,\n",
       "\t    events: IPython.events,\n",
       "\t    keyboard_manager: IPython.keyboard_manager\n",
       "\t})); // Hack to work with IPython 2.1.0\n",
       "\n",
       "\tswitch (type) {\n",
       "\tcase \"image/png\":\n",
       "            var _src = 'data:' + type + ';base64,' + val;\n",
       "\t    $(container).find(\"img\").attr('src', _src);\n",
       "\t    break;\n",
       "\tdefault:\n",
       "\t    var toinsert = OutputArea.append_map[type].apply(\n",
       "\t\toa, [val, {}, selector]\n",
       "\t    );\n",
       "\t    $(container).empty().append(toinsert.contents());\n",
       "\t    selector.remove();\n",
       "\t}\n",
       "\tif (type === \"text/latex\" && MathJax) {\n",
       "\t    MathJax.Hub.Queue([\"Typeset\", MathJax.Hub, toinsert.get(0)]);\n",
       "\t}\n",
       "    }\n",
       "\n",
       "\n",
       "    $(document).ready(function() {\n",
       "\tfunction initComm(evt, data) {\n",
       "\t    var comm_manager = data.kernel.comm_manager;\n",
       "        //_.extend(comm_manager.targets, require(\"widgets/js/widget\"))\n",
       "\t    comm_manager.register_target(\"Signal\", function (comm) {\n",
       "            comm.on_msg(function (msg) {\n",
       "                //Widgets.log(\"message received\", msg);\n",
       "                var val = msg.content.data.value;\n",
       "                $(\".signal-\" + comm.comm_id).each(function() {\n",
       "                var type = $(this).data(\"type\");\n",
       "                if (val[type]) {\n",
       "                    redrawValue(this, type, val[type], type);\n",
       "                }\n",
       "                });\n",
       "                delete val;\n",
       "                delete msg.content.data.value;\n",
       "            });\n",
       "\t    });\n",
       "\n",
       "\t    // coordingate with Comm and redraw Signals\n",
       "\t    // XXX: Test using Reactive here to improve performance\n",
       "\t    $([IPython.events]).on(\n",
       "\t\t'output_appended.OutputArea', function (event, type, value, md, toinsert) {\n",
       "\t\t    if (md && md.reactive) {\n",
       "                // console.log(md.comm_id);\n",
       "                toinsert.addClass(\"signal-\" + md.comm_id);\n",
       "                toinsert.data(\"type\", type);\n",
       "                // Signal back indicating the mimetype required\n",
       "                var comm_manager = IPython.notebook.kernel.comm_manager;\n",
       "                var comm = comm_manager.comms[md.comm_id];\n",
       "                comm.then(function (c) {\n",
       "                    c.send({action: \"subscribe_mime\",\n",
       "                       mime: type});\n",
       "                    toinsert.bind(\"destroyed\", function() {\n",
       "                        c.send({action: \"unsubscribe_mime\",\n",
       "                               mime: type});\n",
       "                    });\n",
       "                })\n",
       "\t\t    }\n",
       "\t    });\n",
       "\t}\n",
       "\n",
       "\ttry {\n",
       "\t    // try to initialize right away. otherwise, wait on the status_started event.\n",
       "\t    initComm(undefined, IPython.notebook);\n",
       "\t} catch (e) {\n",
       "\t    $([IPython.events]).on('kernel_created.Kernel kernel_created.Session', initComm);\n",
       "\t}\n",
       "    });\n",
       "})(IPython, jQuery, _, MathJax);\n",
       "</script>\n",
       "    <script>\n",
       "        window.interactLoadedFlag = true\n",
       "       $(\"#interact-js-shim\").bind(\"destroyed\", function () {\n",
       "           if (window.interactLoadedFlag) {\n",
       "               console.warn(\"JavaScript required by Interact will be removed if you remove this cell or run using Interact more than once.\")\n",
       "           }\n",
       "       })\n",
       "       $([IPython.events]).on(\"kernel_starting.Kernel kernel_restarting.Kernel\", function () { window.interactLoadedFlag = false })\n",
       "   </script>\n",
       "</div>"
      ]
     },
     "metadata": {},
     "output_type": "display_data"
    },
    {
     "name": "stdout",
     "output_type": "stream",
     "text": [
      "adding: /Users/twan/code/julia/RigidBodyDynamics/v0.5/DrakeVisualizer/src/lcmtypes to the python path\n"
     ]
    }
   ],
   "source": [
    "using RigidBodyDynamics\n",
    "using RigidBodyDynamics.TreeDataStructure\n",
    "using RigidBodyDynamics.OdeIntegrators\n",
    "using RigidBodyTreeInspector"
   ]
  },
  {
   "cell_type": "code",
   "execution_count": 2,
   "metadata": {
    "collapsed": false
   },
   "outputs": [],
   "source": [
    "const DRAKE_DISTRO = \"$(ENV[\"HOME\"])/code/drake-distro\"\n",
    "urdf = \"$DRAKE_DISTRO/drake/examples/Valkyrie/urdf/urdf/valkyrie_A_sim_drake_one_neck_dof_wide_ankle_rom.urdf\"\n",
    "package_path = [\"$DRAKE_DISTRO/drake/examples\"]\n",
    "mechanism = RigidBodyDynamics.parse_urdf(Float64, urdf);"
   ]
  },
  {
   "cell_type": "code",
   "execution_count": 3,
   "metadata": {
    "collapsed": true
   },
   "outputs": [],
   "source": [
    "vis = parse_urdf(urdf, mechanism; package_path=package_path);"
   ]
  },
  {
   "cell_type": "code",
   "execution_count": 4,
   "metadata": {
    "collapsed": false
   },
   "outputs": [],
   "source": [
    "# Reroot at the left foot\n",
    "pelvis = vertex_data(findfirst(v -> name(vertex_data(v)) == \"pelvis\", tree(mechanism)))\n",
    "leftFoot = vertex_data(findfirst(v -> name(vertex_data(v)) == \"leftFoot\", tree(mechanism)))\n",
    "leftFootToWorld = Joint(\"\", Fixed{Float64}())\n",
    "world = root_body(mechanism)\n",
    "flippedJointMapping = reattach!(mechanism, pelvis, \n",
    "    world, leftFootToWorld, Transform3D{Float64}(leftFootToWorld.frameBefore, world.frame), \n",
    "    leftFoot, Transform3D{Float64}(leftFoot.frame, leftFootToWorld.frameAfter))\n",
    "remove_fixed_joints!(mechanism);"
   ]
  },
  {
   "cell_type": "code",
   "execution_count": 5,
   "metadata": {
    "collapsed": false
   },
   "outputs": [
    {
     "data": {
      "text/plain": [
       "(::#18) (generic function with 1 method)"
      ]
     },
     "execution_count": 5,
     "metadata": {},
     "output_type": "execute_result"
    }
   ],
   "source": [
    "const passive_dynamics! = (vd::AbstractArray, t, state) -> begin\n",
    "    dynamics!(result, state)\n",
    "    copy!(vd, result.v̇)\n",
    "    nothing\n",
    "end"
   ]
  },
  {
   "cell_type": "code",
   "execution_count": 6,
   "metadata": {
    "collapsed": false
   },
   "outputs": [],
   "source": [
    "type DrakeVisualizerSink <: OdeResultsSink\n",
    "    vis::DrakeVisualizer.Visualizer\n",
    "    Δt::Float64\n",
    "    lastUpdateTime::Float64\n",
    "    \n",
    "    DrakeVisualizerSink(vis::DrakeVisualizer.Visualizer, Δt::Float64) = new(vis, Δt, -Inf)\n",
    "end\n",
    "\n",
    "function OdeIntegrators.initialize(sink::DrakeVisualizerSink, t, state)\n",
    "    DrakeVisualizer.any_open_windows() || DrakeVisualizer.new_window()\n",
    "    sink.lastUpdateTime = -Inf\n",
    "end\n",
    "\n",
    "function OdeIntegrators.process(sink::DrakeVisualizerSink, t, state)\n",
    "    if t > sink.lastUpdateTime + sink.Δt\n",
    "        draw(sink.vis, state)\n",
    "        sink.lastUpdateTime = t\n",
    "    end\n",
    "end"
   ]
  },
  {
   "cell_type": "code",
   "execution_count": 7,
   "metadata": {
    "collapsed": false
   },
   "outputs": [],
   "source": [
    "# Simulation\n",
    "const state = MechanismState(Float64, mechanism)\n",
    "const result = DynamicsResult(Float64, mechanism)\n",
    "const integrator = MuntheKaasIntegrator(passive_dynamics!, runge_kutta_4(Float64), DrakeVisualizerSink(vis, 1e-2));"
   ]
  },
  {
   "cell_type": "code",
   "execution_count": 10,
   "metadata": {
    "collapsed": false
   },
   "outputs": [],
   "source": [
    "zero!(state)\n",
    "integrate(integrator, state, 1., 1e-4)"
   ]
  },
  {
   "cell_type": "code",
   "execution_count": null,
   "metadata": {
    "collapsed": true
   },
   "outputs": [],
   "source": []
  }
 ],
 "metadata": {
  "kernelspec": {
   "display_name": "Julia 0.5.0",
   "language": "julia",
   "name": "julia-0.5"
  },
  "language_info": {
   "file_extension": ".jl",
   "mimetype": "application/julia",
   "name": "julia",
   "version": "0.5.0"
  },
  "widgets": {
   "state": {
    "24d7fdb7-5c33-4366-bca6-043563221a34": {
     "views": [
      {
       "cell_index": 4
      }
     ]
    },
    "34c84ea2-036e-4208-8bb8-6c69a072d9b6": {
     "views": [
      {
       "cell_index": 4
      }
     ]
    },
    "38284b0e-628c-4d80-9c74-e7ba614ae55a": {
     "views": [
      {
       "cell_index": 4
      }
     ]
    },
    "6bd9b6db-44b7-4f3d-8e54-5505319478b8": {
     "views": [
      {
       "cell_index": 4
      }
     ]
    },
    "752362fd-1cb7-4bd5-9d1d-a367c3838080": {
     "views": [
      {
       "cell_index": 4
      }
     ]
    },
    "753e875a-ee18-499c-8957-36a7abe2812a": {
     "views": [
      {
       "cell_index": 4
      }
     ]
    },
    "77b1cd2f-2ad1-4643-a928-5742fd09cddf": {
     "views": [
      {
       "cell_index": 4
      }
     ]
    },
    "7f39c585-a2fd-41fb-af24-21fce8b8f147": {
     "views": [
      {
       "cell_index": 4
      }
     ]
    },
    "8b194e63-9753-420b-ab8a-066780ce7486": {
     "views": [
      {
       "cell_index": 4
      }
     ]
    },
    "90e1f423-aed9-481c-85fc-96c8906132f1": {
     "views": [
      {
       "cell_index": 4
      }
     ]
    },
    "90eb60e9-4981-4a90-8caa-3ac3e16e37ba": {
     "views": [
      {
       "cell_index": 4
      }
     ]
    },
    "9142ab35-60a5-40af-a3f0-e42d6bb8e9a6": {
     "views": [
      {
       "cell_index": 4
      }
     ]
    },
    "a8854ad4-9072-4fff-a6e6-b21653e4a70c": {
     "views": [
      {
       "cell_index": 4
      }
     ]
    },
    "e5fd5639-d0d0-4224-8af2-adfa397581ad": {
     "views": [
      {
       "cell_index": 4
      }
     ]
    },
    "f8cb5709-ed0d-4a91-9a53-b5a1161b5158": {
     "views": [
      {
       "cell_index": 4
      }
     ]
    }
   },
   "version": "1.2.0"
  }
 },
 "nbformat": 4,
 "nbformat_minor": 1
}
