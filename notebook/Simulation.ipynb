{
 "cells": [
  {
   "cell_type": "code",
   "execution_count": 1,
   "metadata": {
    "collapsed": false
   },
   "outputs": [
    {
     "data": {
      "text/html": [
       "<div id=\"interact-js-shim\">\n",
       "    <script charset=\"utf-8\">\n",
       "(function (IPython, $, _, MathJax) {\n",
       "    $.event.special.destroyed = {\n",
       "\tremove: function(o) {\n",
       "\t    if (o.handler) {\n",
       "\t\to.handler.apply(this, arguments)\n",
       "\t    }\n",
       "\t}\n",
       "    }\n",
       "\n",
       "    var OutputArea = IPython.version >= \"4.0.0\" ? require(\"notebook/js/outputarea\").OutputArea : IPython.OutputArea;\n",
       "\n",
       "    var redrawValue = function (container, type, val) {\n",
       "\tvar selector = $(\"<div/>\");\n",
       "\tvar oa = new OutputArea(_.extend(selector, {\n",
       "\t    selector: selector,\n",
       "\t    prompt_area: true,\n",
       "\t    events: IPython.events,\n",
       "\t    keyboard_manager: IPython.keyboard_manager\n",
       "\t})); // Hack to work with IPython 2.1.0\n",
       "\n",
       "\tswitch (type) {\n",
       "\tcase \"image/png\":\n",
       "            var _src = 'data:' + type + ';base64,' + val;\n",
       "\t    $(container).find(\"img\").attr('src', _src);\n",
       "\t    break;\n",
       "\tdefault:\n",
       "\t    var toinsert = OutputArea.append_map[type].apply(\n",
       "\t\toa, [val, {}, selector]\n",
       "\t    );\n",
       "\t    $(container).empty().append(toinsert.contents());\n",
       "\t    selector.remove();\n",
       "\t}\n",
       "\tif (type === \"text/latex\" && MathJax) {\n",
       "\t    MathJax.Hub.Queue([\"Typeset\", MathJax.Hub, toinsert.get(0)]);\n",
       "\t}\n",
       "    }\n",
       "\n",
       "\n",
       "    $(document).ready(function() {\n",
       "\tfunction initComm(evt, data) {\n",
       "\t    var comm_manager = data.kernel.comm_manager;\n",
       "        //_.extend(comm_manager.targets, require(\"widgets/js/widget\"))\n",
       "\t    comm_manager.register_target(\"Signal\", function (comm) {\n",
       "            comm.on_msg(function (msg) {\n",
       "                //Widgets.log(\"message received\", msg);\n",
       "                var val = msg.content.data.value;\n",
       "                $(\".signal-\" + comm.comm_id).each(function() {\n",
       "                var type = $(this).data(\"type\");\n",
       "                if (val[type]) {\n",
       "                    redrawValue(this, type, val[type], type);\n",
       "                }\n",
       "                });\n",
       "                delete val;\n",
       "                delete msg.content.data.value;\n",
       "            });\n",
       "\t    });\n",
       "\n",
       "\t    // coordingate with Comm and redraw Signals\n",
       "\t    // XXX: Test using Reactive here to improve performance\n",
       "\t    $([IPython.events]).on(\n",
       "\t\t'output_appended.OutputArea', function (event, type, value, md, toinsert) {\n",
       "\t\t    if (md && md.reactive) {\n",
       "                // console.log(md.comm_id);\n",
       "                toinsert.addClass(\"signal-\" + md.comm_id);\n",
       "                toinsert.data(\"type\", type);\n",
       "                // Signal back indicating the mimetype required\n",
       "                var comm_manager = IPython.notebook.kernel.comm_manager;\n",
       "                var comm = comm_manager.comms[md.comm_id];\n",
       "                comm.then(function (c) {\n",
       "                    c.send({action: \"subscribe_mime\",\n",
       "                       mime: type});\n",
       "                    toinsert.bind(\"destroyed\", function() {\n",
       "                        c.send({action: \"unsubscribe_mime\",\n",
       "                               mime: type});\n",
       "                    });\n",
       "                })\n",
       "\t\t    }\n",
       "\t    });\n",
       "\t}\n",
       "\n",
       "\ttry {\n",
       "\t    // try to initialize right away. otherwise, wait on the status_started event.\n",
       "\t    initComm(undefined, IPython.notebook);\n",
       "\t} catch (e) {\n",
       "\t    $([IPython.events]).on('kernel_created.Kernel kernel_created.Session', initComm);\n",
       "\t}\n",
       "    });\n",
       "})(IPython, jQuery, _, MathJax);\n",
       "</script>\n",
       "    <script>\n",
       "        window.interactLoadedFlag = true\n",
       "       $(\"#interact-js-shim\").bind(\"destroyed\", function () {\n",
       "           if (window.interactLoadedFlag) {\n",
       "               console.warn(\"JavaScript required by Interact will be removed if you remove this cell or run using Interact more than once.\")\n",
       "           }\n",
       "       })\n",
       "       $([IPython.events]).on(\"kernel_starting.Kernel kernel_restarting.Kernel\", function () { window.interactLoadedFlag = false })\n",
       "   </script>\n",
       "</div>"
      ]
     },
     "metadata": {},
     "output_type": "display_data"
    },
    {
     "name": "stdout",
     "output_type": "stream",
     "text": [
      "adding: /Users/twan/code/julia/RigidBodyDynamics/v0.5/DrakeVisualizer/src/lcmtypes to the python path\n"
     ]
    },
    {
     "name": "stderr",
     "output_type": "stream",
     "text": [
      "WARNING: using Gurobi.model_name in module Main conflicts with an existing identifier.\n"
     ]
    }
   ],
   "source": [
    "using RigidBodyDynamics\n",
    "using RigidBodyDynamics.TreeDataStructure\n",
    "using RigidBodyDynamics.OdeIntegrators\n",
    "using RigidBodyTreeInspector\n",
    "using VariableHeightMomentumControl\n",
    "using JuMP\n",
    "using Gurobi\n",
    "using StaticArrays\n",
    "\n",
    "import RigidBodyDynamics: @framecheck"
   ]
  },
  {
   "cell_type": "code",
   "execution_count": 2,
   "metadata": {
    "collapsed": true
   },
   "outputs": [],
   "source": [
    "# TODO: grab everything off of github and cache\n",
    "DRAKE_DISTRO = \"$(ENV[\"HOME\"])/code/drake-distro\"\n",
    "urdf = \"$DRAKE_DISTRO/drake/examples/Valkyrie/urdf/urdf/valkyrie_A_sim_drake_one_neck_dof_wide_ankle_rom.urdf\"\n",
    "mechanism = RigidBodyDynamics.parse_urdf(Float64, urdf);"
   ]
  },
  {
   "cell_type": "code",
   "execution_count": 3,
   "metadata": {
    "collapsed": false
   },
   "outputs": [],
   "source": [
    "# Create visualizer\n",
    "package_path = [\"$DRAKE_DISTRO/drake/examples\"]\n",
    "vis = parse_urdf(urdf, mechanism; package_path = package_path);"
   ]
  },
  {
   "cell_type": "code",
   "execution_count": 4,
   "metadata": {
    "collapsed": false
   },
   "outputs": [],
   "source": [
    "# Add sole frame\n",
    "ankleRoll = edge_to_parent_data(findfirst(v -> !isroot(v) && edge_to_parent_data(v).name == \"leftAnkleRoll\", tree(mechanism)))\n",
    "soleFrame = CartesianFrame3D(\"l_foot_sole\")\n",
    "soleToFoot = Transform3D(soleFrame, ankleRoll.frameAfter, SVector(0.067, 0., -0.09))\n",
    "add_body_fixed_frame!(mechanism, soleToFoot);"
   ]
  },
  {
   "cell_type": "code",
   "execution_count": 5,
   "metadata": {
    "collapsed": false
   },
   "outputs": [],
   "source": [
    "# Reroot at the left foot and remove fixed joints\n",
    "pelvis = vertex_data(findfirst(v -> name(vertex_data(v)) == \"pelvis\", tree(mechanism)))\n",
    "leftFoot = vertex_data(findfirst(v -> name(vertex_data(v)) == \"leftFoot\", tree(mechanism)))\n",
    "leftFootToWorld = Joint(\"\", Fixed{Float64}())\n",
    "world = root_body(mechanism)\n",
    "reattach!(mechanism, pelvis, \n",
    "    world, leftFootToWorld, Transform3D(leftFootToWorld.frameBefore, world.frame, -soleToFoot.trans), \n",
    "    leftFoot, Transform3D{Float64}(leftFoot.frame, leftFootToWorld.frameAfter))\n",
    "remove_fixed_joints!(mechanism);"
   ]
  },
  {
   "cell_type": "code",
   "execution_count": 6,
   "metadata": {
    "collapsed": false
   },
   "outputs": [],
   "source": [
    "type VariableHeightMomentumController\n",
    "    τ::Vector{Float64}\n",
    "    dynamicsResult::DynamicsResult{Float64}\n",
    "    positionControlledJoints::Vector{Joint{Float64}}\n",
    "    \n",
    "    function VariableHeightMomentumController(mechanism::Mechanism, positionControlledJoints::Vector{Joint{Float64}})\n",
    "        τ = zeros(num_velocities(mechanism))\n",
    "        new(τ, DynamicsResult(Float64, mechanism), positionControlledJoints)\n",
    "    end\n",
    "end"
   ]
  },
  {
   "cell_type": "code",
   "execution_count": 7,
   "metadata": {
    "collapsed": false
   },
   "outputs": [
    {
     "data": {
      "text/plain": [
       "center_of_pressure (generic function with 1 method)"
      ]
     },
     "execution_count": 7,
     "metadata": {},
     "output_type": "execute_result"
    }
   ],
   "source": [
    "# assumes that the plane in which the CoP lies is the x-y plane of the frame in which the wrench is expressed\n",
    "function center_of_pressure(wrench::Wrench)\n",
    "    T = eltype(wrench)\n",
    "    normal = StaticArrays.SVector(zero(T), zero(T), one(T))\n",
    "    torque = wrench.angular\n",
    "    force = wrench.linear\n",
    "    Point3D(wrench.frame, normal × torque / (normal ⋅ force))\n",
    "end"
   ]
  },
  {
   "cell_type": "code",
   "execution_count": 8,
   "metadata": {
    "collapsed": false
   },
   "outputs": [
    {
     "data": {
      "text/plain": [
       "cubic_orbital_energy_controller (generic function with 1 method)"
      ]
     },
     "execution_count": 8,
     "metadata": {},
     "output_type": "execute_result"
    }
   ],
   "source": [
    "function cubic_orbital_energy_controller(g, zf, x, z, xd, zd)\n",
    "    a = xd / x\n",
    "    b = zd - a * z\n",
    "    u = -7 * a^2 + (3 * zf * a^3 - g * a) / b - (10 * a^3 * b) / g\n",
    "end"
   ]
  },
  {
   "cell_type": "code",
   "execution_count": 9,
   "metadata": {
    "collapsed": false
   },
   "outputs": [
    {
     "data": {
      "text/plain": [
       "CartesianFrame3D: \"centroidal\" (id = 357)"
      ]
     },
     "execution_count": 9,
     "metadata": {},
     "output_type": "execute_result"
    }
   ],
   "source": [
    "const centroidalFrame = CartesianFrame3D(\"centroidal\")"
   ]
  },
  {
   "cell_type": "code",
   "execution_count": 10,
   "metadata": {
    "collapsed": false
   },
   "outputs": [
    {
     "data": {
      "text/plain": [
       "control (generic function with 1 method)"
      ]
     },
     "execution_count": 10,
     "metadata": {},
     "output_type": "execute_result"
    }
   ],
   "source": [
    "function control(controller::VariableHeightMomentumController, t, state)\n",
    "    # create model\n",
    "    solver = Gurobi.GurobiSolver()\n",
    "    Gurobi.setparameters!(solver, Silent = true)\n",
    "    model = Model(solver = solver)\n",
    "    nv = num_velocities(state)\n",
    "    @variable(model, v̇[1 : nv])\n",
    "    \n",
    "    # Compute desired rate of change of linear momentum\n",
    "    com = center_of_mass(state) - transform(state, Point3D(Float64, soleFrame), root_frame(mechanism))\n",
    "    v = velocity_vector(state)\n",
    "    A = momentum_matrix(state)\n",
    "    m = mass(state.mechanism)\n",
    "    comdot = FreeVector3D(A.frame, A.linear * v) / m\n",
    "    g = -RigidBodyDynamics.gravitational_spatial_acceleration(state.mechanism).linear[3]\n",
    "    zf = 0.95\n",
    "    x, z = com.v[1], com.v[3]\n",
    "    xd, zd = comdot.v[1], comdot.v[3]\n",
    "    u = cubic_orbital_energy_controller(g, zf, x, z, xd, zd)\n",
    "    u = max(u, zero(u))\n",
    "    fx = m * x * u\n",
    "    fz = m * (z * u - g)\n",
    "    ḣdes = Wrench{Float64}(centroidalFrame, zero(SVector{3, eltype(u)}), SVector(fx, zero(u), fz))\n",
    "    centroidalToWorld = Transform3D(centroidalFrame, root_frame(mechanism), com.v)\n",
    "    ḣdes = transform(ḣdes, centroidalToWorld)\n",
    "    \n",
    "    # Set up QP\n",
    "    Ȧv = momentum_rate_bias(state)\n",
    "    @framecheck A.frame ḣdes.frame\n",
    "    @framecheck A.frame Ȧv.frame\n",
    "    @constraint(model, Array(A.linear) * v̇ + Array(Ȧv.linear) .== Array(ḣdes.linear))\n",
    "    @constraint(model, Array(A.angular) * v̇ + Array(Ȧv.angular) .== Array(ḣdes.angular))\n",
    "    \n",
    "    # PD control for upper body and free leg\n",
    "    kp = 100.\n",
    "    kd = 20.\n",
    "    q = configuration_vector(state)\n",
    "    v = velocity_vector\n",
    "    for joint in positionControlledJoints\n",
    "        v̇pd = -kp .* configuration(state, joint) - kd .* velocity(state, joint)\n",
    "        @constraint(model, v̇[mechanism.vRanges[joint]] .== v̇pd)\n",
    "    end\n",
    "    \n",
    "    # minimize squared joint accelerations\n",
    "    @objective(model, Min, sum{v̇[i]^2, i = 1 : nv})\n",
    "    \n",
    "    # solve\n",
    "    status = solve(model)\n",
    "    \n",
    "    # Compute CoP\n",
    "    gravitationalWrench = transform(Wrench(centroidalFrame, zero(SVector{3}), SVector(0, 0, -m * g)), centroidalToWorld)\n",
    "    groundReactionWrench = ḣdes - gravitationalWrench\n",
    "    groundReactionWrench = transform(state, groundReactionWrench, soleFrame)\n",
    "    cop = center_of_pressure(groundReactionWrench)\n",
    "    cop = transform(state, cop, root_frame(mechanism))\n",
    "    @assert all(isnan(cop.v)) || isapprox(cop.v[1], 0., atol = 1e-8)\n",
    "\n",
    "    # inverse dynamics\n",
    "    result = controller.dynamicsResult\n",
    "    result.v̇ = getvalue(v̇)\n",
    "    inverse_dynamics!(controller.τ, result.jointWrenches, result.accelerations, state, result.v̇)\n",
    "    controller.τ\n",
    "end"
   ]
  },
  {
   "cell_type": "code",
   "execution_count": 11,
   "metadata": {
    "collapsed": false
   },
   "outputs": [],
   "source": [
    "pelvisVertex = findfirst(v -> name(vertex_data(v)) == \"pelvis\", tree(mechanism))\n",
    "stanceFootVertex = findfirst(v -> name(vertex_data(v)) == \"world\", tree(mechanism))\n",
    "stanceLegPath = path(pelvisVertex, stanceFootVertex)\n",
    "positionControlledJoints = collect(filter(j -> j ∉ stanceLegPath.edgeData, joints(mechanism)))\n",
    "const controller = VariableHeightMomentumController(mechanism, positionControlledJoints);"
   ]
  },
  {
   "cell_type": "code",
   "execution_count": 12,
   "metadata": {
    "collapsed": false
   },
   "outputs": [
    {
     "data": {
      "text/plain": [
       "passive_dynamics! (generic function with 1 method)"
      ]
     },
     "execution_count": 12,
     "metadata": {},
     "output_type": "execute_result"
    }
   ],
   "source": [
    "function passive_dynamics!(vd::AbstractArray, t, state)\n",
    "    dynamics!(result, state)\n",
    "    copy!(vd, result.v̇)\n",
    "end"
   ]
  },
  {
   "cell_type": "code",
   "execution_count": 13,
   "metadata": {
    "collapsed": false
   },
   "outputs": [
    {
     "data": {
      "text/plain": [
       "controlled_dynamics! (generic function with 1 method)"
      ]
     },
     "execution_count": 13,
     "metadata": {},
     "output_type": "execute_result"
    }
   ],
   "source": [
    "function controlled_dynamics!(vd::AbstractArray, t, state)\n",
    "    torques = control(controller, t, state)\n",
    "    dynamics!(result, state, torques)\n",
    "    copy!(vd, result.v̇)\n",
    "end"
   ]
  },
  {
   "cell_type": "code",
   "execution_count": 14,
   "metadata": {
    "collapsed": false
   },
   "outputs": [],
   "source": [
    "# Simulation\n",
    "const state = MechanismState(Float64, mechanism)\n",
    "const result = DynamicsResult(Float64, mechanism)\n",
    "const integrator = MuntheKaasIntegrator(controlled_dynamics!, runge_kutta_4(Float64), DrakeVisualizerSink(vis, 1e-2));"
   ]
  },
  {
   "cell_type": "code",
   "execution_count": 15,
   "metadata": {
    "collapsed": false
   },
   "outputs": [
    {
     "data": {
      "text/plain": [
       "Joint \"leftHipRoll_flipped\": Revolute joint with axis [-1.0,-0.0,-0.0]"
      ]
     },
     "execution_count": 15,
     "metadata": {},
     "output_type": "execute_result"
    }
   ],
   "source": [
    "ankleRoll = edge_to_parent_data(findfirst(v -> !isroot(v) && edge_to_parent_data(v).name == \"leftAnkleRoll_flipped\", tree(mechanism)))\n",
    "knee = edge_to_parent_data(findfirst(v -> !isroot(v) && edge_to_parent_data(v).name == \"leftKneePitch_flipped\", tree(mechanism)))\n",
    "hipPitch = edge_to_parent_data(findfirst(v -> !isroot(v) && edge_to_parent_data(v).name == \"leftHipPitch_flipped\", tree(mechanism)))\n",
    "hipRoll = edge_to_parent_data(findfirst(v -> !isroot(v) && edge_to_parent_data(v).name == \"leftHipRoll_flipped\", tree(mechanism)))"
   ]
  },
  {
   "cell_type": "code",
   "execution_count": 16,
   "metadata": {
    "collapsed": false
   },
   "outputs": [
    {
     "data": {
      "text/plain": [
       "solve_for_velocities! (generic function with 1 method)"
      ]
     },
     "execution_count": 16,
     "metadata": {},
     "output_type": "execute_result"
    }
   ],
   "source": [
    "function solve_for_velocities!(state::MechanismState, momentum::Momentum, fixedJoints::Vector{Joint{Float64}})\n",
    "    solver = Gurobi.GurobiSolver()\n",
    "    Gurobi.setparameters!(solver, Silent = true)\n",
    "    model = Model(solver = solver)\n",
    "    nv = num_velocities(state)\n",
    "    A = momentum_matrix(state)\n",
    "    \n",
    "    momentum = transform(state, momentum, A.frame)\n",
    "    \n",
    "    @variable(model, v[1 : nv])\n",
    "    @constraint(model, Array(A.linear) * v .== Array(momentum.linear))\n",
    "    @constraint(model, Array(A.angular) * v .== Array(momentum.angular))\n",
    "    for joint in fixedJoints\n",
    "        @constraint(model, v[mechanism.vRanges[joint]] .== 0)\n",
    "    end\n",
    "    @objective(model, Min, sum{v[i]^2, i = 1 : nv})\n",
    "\n",
    "    status = solve(model)\n",
    "    set_velocity!(state, getvalue(v))\n",
    "end"
   ]
  },
  {
   "cell_type": "code",
   "execution_count": 17,
   "metadata": {
    "collapsed": false
   },
   "outputs": [
    {
     "data": {
      "text/plain": [
       "initialize_state! (generic function with 1 method)"
      ]
     },
     "execution_count": 17,
     "metadata": {},
     "output_type": "execute_result"
    }
   ],
   "source": [
    "function initialize_state!(state::MechanismState, xd::Float64)\n",
    "    zero!(state)\n",
    "    θroll = 0.13\n",
    "    θknee = 1.\n",
    "    configuration(state, ankleRoll)[:] = θroll\n",
    "    configuration(state, hipRoll)[:] = -θroll\n",
    "    configuration(state, knee)[:] = θknee\n",
    "    configuration(state, hipPitch)[:] = -θknee\n",
    "    setdirty!(state)\n",
    "    com = center_of_mass(state)\n",
    "    comdot = FreeVector3D(centroidalFrame, SVector(xd, 0.0, 0.0))\n",
    "    linearMomentum = mass(mechanism) * comdot\n",
    "    initialMomentum = Momentum{Float64}(centroidalFrame, zero(SVector{3}), linearMomentum.v)\n",
    "    centroidalToWorld = Transform3D(centroidalFrame, root_frame(mechanism), com.v)\n",
    "    initialMomentum = transform(initialMomentum, centroidalToWorld)\n",
    "    solve_for_velocities!(state, initialMomentum, positionControlledJoints)\n",
    "end"
   ]
  },
  {
   "cell_type": "code",
   "execution_count": 23,
   "metadata": {
    "collapsed": false
   },
   "outputs": [],
   "source": [
    "xd = 1.0 + (1.4 - 1.0) * rand()\n",
    "initialize_state!(state, xd)\n",
    "integrate(integrator, state, 1.5, 1e-3)\n",
    "# control(controller, 0., state)"
   ]
  },
  {
   "cell_type": "code",
   "execution_count": null,
   "metadata": {
    "collapsed": true
   },
   "outputs": [],
   "source": []
  }
 ],
 "metadata": {
  "kernelspec": {
   "display_name": "Julia 0.5.0",
   "language": "julia",
   "name": "julia-0.5"
  },
  "language_info": {
   "file_extension": ".jl",
   "mimetype": "application/julia",
   "name": "julia",
   "version": "0.5.0"
  }
 },
 "nbformat": 4,
 "nbformat_minor": 1
}
